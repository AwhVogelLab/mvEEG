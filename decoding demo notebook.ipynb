{
 "cells": [
  {
   "cell_type": "code",
   "execution_count": 37,
   "metadata": {},
   "outputs": [
    {
     "name": "stdout",
     "output_type": "stream",
     "text": [
      "The autoreload extension is already loaded. To reload it, use:\n",
      "  %reload_ext autoreload\n"
     ]
    }
   ],
   "source": [
    "import mne_bids\n",
    "from glob import glob\n",
    "import mne\n",
    "import re\n",
    "import numpy as np\n",
    "import pandas as pd\n",
    "from collections import defaultdict\n",
    "from mne.parallel import parallel_func\n",
    "\n",
    "from wrangler import Wrangler\n",
    "from classifier import Classifier\n",
    "import matplotlib.pyplot as plt\n",
    "import tqdm as tqdm\n",
    "%load_ext autoreload\n",
    "%autoreload 2"
   ]
  },
  {
   "cell_type": "code",
   "execution_count": 2,
   "metadata": {},
   "outputs": [],
   "source": [
    "DATA_DIR = r\"E:\\datasets\\supracapacity\\derivatives\"\n",
    "EXPERIMENT_NAME='supracapacity'\n",
    "\n",
    "dropped_chans={\n",
    "    'eeg':['Fp1','Fp2'],\n",
    "    'eog':'ALL',\n",
    "    'eyegaze':'ALL',\n",
    "    'pupil':'ALL',\n",
    "    'misc':'ALL'\n",
    "}\n",
    "\n",
    "conditions = ['memory/ss2/no_placeholders','memory/ss2/placeholders',\n",
    "                'memory/ss4/no_placeholders','memory/ss4/placeholders',\n",
    "                'memory/ss6/no_placeholders','memory/ss6/placeholders',\n",
    "                'memory/ss8/no_placeholders','memory/ss8/placeholders',\n",
    "                'attention/ss2/no_placeholders','attention/ss2/placeholders',\n",
    "                'attention/ss4/no_placeholders','attention/ss4/placeholders',\n",
    "                'attention/ss6/no_placeholders','attention/ss6/placeholders',\n",
    "                'attention/ss8/no_placeholders','attention/ss8/placeholders']\n",
    "\n",
    "training_groups = [('memory','ss2'),('memory','ss4')]\n",
    "testing_groups =  [('memory','ss2'),('memory','ss4')]\n",
    "\n",
    "group_dict = defaultdict(None)\n",
    "for igroup,group in enumerate(training_groups):\n",
    "    for condition in conditions:\n",
    "        if all([subgroup in condition.split('/') for subgroup in group]):\n",
    "            group_dict[condition] = igroup\n",
    "for igroup,group in enumerate(testing_groups):\n",
    "    if group not in training_groups:\n",
    "        for condition in conditions:\n",
    "            if all([subgroup in condition.split('/') for subgroup in group]):\n",
    "                    group_dict[condition] = 2+igroup\n",
    "\n"
   ]
  },
  {
   "cell_type": "code",
   "execution_count": 42,
   "metadata": {},
   "outputs": [],
   "source": [
    "wrangl = Wrangler(data_dir=DATA_DIR,experiment_name=EXPERIMENT_NAME,dropped_chans=dropped_chans,conditions=conditions,training_groups=training_groups,testing_groups=testing_groups,n_folds=1000)\n",
    "clfr = Classifier()"
   ]
  },
  {
   "cell_type": "code",
   "execution_count": 43,
   "metadata": {},
   "outputs": [
    {
     "name": "stderr",
     "output_type": "stream",
     "text": [
      "  3%|▎         | 1/31 [00:44<22:10, 44.36s/it]\n"
     ]
    },
    {
     "ename": "FileNotFoundError",
     "evalue": "[Errno 2] No such file or directory: 'E:\\\\datasets\\\\supracapacity\\\\derivatives\\\\sub-03\\\\eeg\\\\sub-03_task-supracapacity_desc-preprocessed_rejection_flags.npy'",
     "output_type": "error",
     "traceback": [
      "\u001b[1;31m---------------------------------------------------------------------------\u001b[0m",
      "\u001b[1;31mFileNotFoundError\u001b[0m                         Traceback (most recent call last)",
      "Cell \u001b[1;32mIn[43], line 6\u001b[0m\n\u001b[0;32m      4\u001b[0m confidence_scores \u001b[38;5;241m=\u001b[39m []\n\u001b[0;32m      5\u001b[0m \u001b[38;5;28;01mfor\u001b[39;00m isub \u001b[38;5;129;01min\u001b[39;00m tqdm\u001b[38;5;241m.\u001b[39mtqdm(\u001b[38;5;28mrange\u001b[39m(wrangl\u001b[38;5;241m.\u001b[39mnsub)):\n\u001b[1;32m----> 6\u001b[0m     Xdata,ydata \u001b[38;5;241m=\u001b[39m \u001b[43mwrangl\u001b[49m\u001b[38;5;241;43m.\u001b[39;49m\u001b[43mload_eeg\u001b[49m\u001b[43m(\u001b[49m\u001b[43misub\u001b[49m\u001b[43m)\u001b[49m\n\u001b[0;32m      7\u001b[0m     parallel,p_func,_ \u001b[38;5;241m=\u001b[39m parallel_func(clfr\u001b[38;5;241m.\u001b[39mdecode_across_time,n_jobs \u001b[38;5;241m=\u001b[39m \u001b[38;5;241m-\u001b[39m\u001b[38;5;241m1\u001b[39m)\n\u001b[0;32m      9\u001b[0m     out \u001b[38;5;241m=\u001b[39m parallel(\n\u001b[0;32m     10\u001b[0m         p_func(\n\u001b[0;32m     11\u001b[0m             X_train\u001b[38;5;241m=\u001b[39mX_train,\n\u001b[1;32m   (...)\u001b[0m\n\u001b[0;32m     16\u001b[0m         \u001b[38;5;28;01mfor\u001b[39;00m X_train,X_test,y_train,y_test \u001b[38;5;129;01min\u001b[39;00m wrangl\u001b[38;5;241m.\u001b[39mbin_and_split(Xdata,ydata)\n\u001b[0;32m     17\u001b[0m     )\n",
      "File \u001b[1;32mc:\\Users\\Darius\\src\\mvEEG\\wrangler.py:147\u001b[0m, in \u001b[0;36mWrangler.load_eeg\u001b[1;34m(self, isub, drop_chans_manual, reject, time_bin)\u001b[0m\n\u001b[0;32m    145\u001b[0m epochs \u001b[38;5;241m=\u001b[39m mne\u001b[38;5;241m.\u001b[39mread_epochs(sub_path\u001b[38;5;241m.\u001b[39mupdate(suffix\u001b[38;5;241m=\u001b[39m\u001b[38;5;124m'\u001b[39m\u001b[38;5;124meeg\u001b[39m\u001b[38;5;124m'\u001b[39m,extension\u001b[38;5;241m=\u001b[39m\u001b[38;5;124m'\u001b[39m\u001b[38;5;124m.fif\u001b[39m\u001b[38;5;124m'\u001b[39m)\u001b[38;5;241m.\u001b[39mfpath)\n\u001b[0;32m    146\u001b[0m events \u001b[38;5;241m=\u001b[39m pd\u001b[38;5;241m.\u001b[39mread_csv(sub_path\u001b[38;5;241m.\u001b[39mupdate(suffix\u001b[38;5;241m=\u001b[39m\u001b[38;5;124m'\u001b[39m\u001b[38;5;124mevents\u001b[39m\u001b[38;5;124m'\u001b[39m,extension\u001b[38;5;241m=\u001b[39m\u001b[38;5;124m'\u001b[39m\u001b[38;5;124m.tsv\u001b[39m\u001b[38;5;124m'\u001b[39m)\u001b[38;5;241m.\u001b[39mfpath,sep\u001b[38;5;241m=\u001b[39m\u001b[38;5;124m'\u001b[39m\u001b[38;5;130;01m\\t\u001b[39;00m\u001b[38;5;124m'\u001b[39m)[\u001b[38;5;124m'\u001b[39m\u001b[38;5;124mvalue\u001b[39m\u001b[38;5;124m'\u001b[39m]\u001b[38;5;241m.\u001b[39mto_numpy()\n\u001b[1;32m--> 147\u001b[0m artifacts \u001b[38;5;241m=\u001b[39m \u001b[43mnp\u001b[49m\u001b[38;5;241;43m.\u001b[39;49m\u001b[43mload\u001b[49m\u001b[43m(\u001b[49m\u001b[43msub_path\u001b[49m\u001b[38;5;241;43m.\u001b[39;49m\u001b[43mupdate\u001b[49m\u001b[43m(\u001b[49m\u001b[43msuffix\u001b[49m\u001b[38;5;241;43m=\u001b[39;49m\u001b[38;5;124;43m'\u001b[39;49m\u001b[38;5;124;43mrejection_flags\u001b[39;49m\u001b[38;5;124;43m'\u001b[39;49m\u001b[43m,\u001b[49m\u001b[43mextension\u001b[49m\u001b[38;5;241;43m=\u001b[39;49m\u001b[38;5;124;43m'\u001b[39;49m\u001b[38;5;124;43m.npy\u001b[39;49m\u001b[38;5;124;43m'\u001b[39;49m\u001b[43m)\u001b[49m\u001b[38;5;241;43m.\u001b[39;49m\u001b[43mfpath\u001b[49m\u001b[43m)\u001b[49m\n\u001b[0;32m    149\u001b[0m \u001b[38;5;66;03m# drop unwanted channels\u001b[39;00m\n\u001b[0;32m    151\u001b[0m chans_to_drop \u001b[38;5;241m=\u001b[39m \u001b[38;5;28mself\u001b[39m\u001b[38;5;241m.\u001b[39mchans_to_drop\u001b[38;5;241m.\u001b[39mcopy()\n",
      "File \u001b[1;32mc:\\Users\\Darius\\.conda\\envs\\mvload\\lib\\site-packages\\numpy\\lib\\npyio.py:427\u001b[0m, in \u001b[0;36mload\u001b[1;34m(file, mmap_mode, allow_pickle, fix_imports, encoding, max_header_size)\u001b[0m\n\u001b[0;32m    425\u001b[0m     own_fid \u001b[38;5;241m=\u001b[39m \u001b[38;5;28;01mFalse\u001b[39;00m\n\u001b[0;32m    426\u001b[0m \u001b[38;5;28;01melse\u001b[39;00m:\n\u001b[1;32m--> 427\u001b[0m     fid \u001b[38;5;241m=\u001b[39m stack\u001b[38;5;241m.\u001b[39menter_context(\u001b[38;5;28;43mopen\u001b[39;49m\u001b[43m(\u001b[49m\u001b[43mos_fspath\u001b[49m\u001b[43m(\u001b[49m\u001b[43mfile\u001b[49m\u001b[43m)\u001b[49m\u001b[43m,\u001b[49m\u001b[43m \u001b[49m\u001b[38;5;124;43m\"\u001b[39;49m\u001b[38;5;124;43mrb\u001b[39;49m\u001b[38;5;124;43m\"\u001b[39;49m\u001b[43m)\u001b[49m)\n\u001b[0;32m    428\u001b[0m     own_fid \u001b[38;5;241m=\u001b[39m \u001b[38;5;28;01mTrue\u001b[39;00m\n\u001b[0;32m    430\u001b[0m \u001b[38;5;66;03m# Code to distinguish from NumPy binary files and pickles.\u001b[39;00m\n",
      "\u001b[1;31mFileNotFoundError\u001b[0m: [Errno 2] No such file or directory: 'E:\\\\datasets\\\\supracapacity\\\\derivatives\\\\sub-03\\\\eeg\\\\sub-03_task-supracapacity_desc-preprocessed_rejection_flags.npy'"
     ]
    }
   ],
   "source": [
    "\n",
    "accs = []\n",
    "accs_shuff = []\n",
    "confusion_mats = []\n",
    "confidence_scores = []\n",
    "for isub in tqdm.tqdm(range(wrangl.nsub)):\n",
    "    try:\n",
    "        Xdata,ydata = wrangl.load_eeg(isub)\n",
    "    except:\n",
    "        continue\n",
    "    parallel,p_func,_ = parallel_func(clfr.decode_across_time,n_jobs = -1)\n",
    "\n",
    "    out = parallel(\n",
    "        p_func(\n",
    "            X_train=X_train,\n",
    "            X_test=X_test,\n",
    "            y_train=y_train,\n",
    "            y_test=y_test,\n",
    "        )\n",
    "        for X_train,X_test,y_train,y_test in wrangl.bin_and_split(Xdata,ydata)\n",
    "    )\n",
    "    acc,acc_shuff,conf_mat,score = map(np.stack,zip(*out))\n",
    "    accs.append(acc)\n",
    "    accs_shuff.append(acc_shuff)\n",
    "    confusion_mats.append(conf_mat)\n",
    "    confidence_scores.append(score)\n",
    "\n",
    "accs = np.stack(accs)\n",
    "accs_shuff = np.stack(accs_shuff)\n",
    "confusion_mats = np.stack(confusion_mats)\n",
    "confidence_scores = np.stack(confidence_scores)"
   ]
  }
 ],
 "metadata": {
  "kernelspec": {
   "display_name": "mvload",
   "language": "python",
   "name": "python3"
  },
  "language_info": {
   "codemirror_mode": {
    "name": "ipython",
    "version": 3
   },
   "file_extension": ".py",
   "mimetype": "text/x-python",
   "name": "python",
   "nbconvert_exporter": "python",
   "pygments_lexer": "ipython3",
   "version": "3.10.14"
  }
 },
 "nbformat": 4,
 "nbformat_minor": 2
}
